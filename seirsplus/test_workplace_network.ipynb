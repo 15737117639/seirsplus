{
 "cells": [
  {
   "cell_type": "code",
   "execution_count": 1,
   "metadata": {},
   "outputs": [],
   "source": [
    "from __future__ import division\n",
    "# from models import *\n",
    "from extended_models import *\n",
    "from networks import *\n",
    "from sim_loops import *\n",
    "import networkx\n",
    "import pickle\n",
    "import gzip\n",
    "import pandas\n",
    "from scipy.stats import linregress"
   ]
  },
  {
   "cell_type": "code",
   "execution_count": 2,
   "metadata": {},
   "outputs": [],
   "source": [
    "import matplotlib.pyplot as pyplot\n",
    "# pyplot.switch_backend('agg')\n",
    "import seaborn\n",
    "seaborn.set_style('ticks')"
   ]
  },
  {
   "cell_type": "code",
   "execution_count": 3,
   "metadata": {},
   "outputs": [],
   "source": [
    "import argparse\n",
    "\n",
    "parser  = argparse.ArgumentParser()\n",
    "parser.add_argument(\"-runID\",                         \"--runID\",                          default=\"notebook\",     type=str)\n",
    "parser.add_argument(\"-T\",                             \"--T\",                              default=300,          type=float)\n",
    "parser.add_argument(\"-N\",                             \"--N\",                              default=500,        type=int)\n",
    "parser.add_argument(\"-INIT_PCT_E\",                    \"--INIT_PCT_E\",                     default=(1/500),    type=float)\n",
    "parser.add_argument(\"-INTERVENTION_START_PCT_INFECTED\", \"--INTERVENTION_START_PCT_INFECTED\", default=(1/500),   type=float)\n",
    "parser.add_argument(\"-R0_mean\",                       \"--R0_mean\",                        default=2.0,          type=float)\n",
    "parser.add_argument(\"-R0_coeffvar\",                   \"--R0_coeffvar\",                    default=0.2,          type=float)\n",
    "parser.add_argument(\"-PCT_ASYMPTOMATIC\",              \"--PCT_ASYMPTOMATIC\",               default=0.25,          type=float)\n",
    "parser.add_argument(\"-P_GLOBALINTXN\",                 \"--P_GLOBALINTXN\",                  default=0.1,         type=float)\n",
    "parser.add_argument(\"-Q_GLOBALINTXN\",                 \"--Q_GLOBALINTXN\",                  default=0.0,          type=float)\n",
    "parser.add_argument(\"-O_GLOBALINTXN\",                 \"--O_GLOBALINTXN\",                  default=0.0,         type=float)\n",
    "parser.add_argument(\"-PREVALENCE_EXT\",                \"--PREVALENCE_EXT\",                 default=0.00,         type=float)\n",
    "parser.add_argument(\"-TESTING_INTERVAL\",              \"--TESTING_INTERVAL\",               default=1,            type=float)\n",
    "parser.add_argument(\"-FRAC_TO_TEST_PER_INTERVAL\",     \"--FRAC_TO_TEST_PER_INTERVAL\",      default=(1/7),       type=float)\n",
    "parser.add_argument(\"-TEST_FALSENEG_RATE\",            \"--TEST_FALSENEG_RATE\",             default='temporal',   type=str)\n",
    "parser.add_argument(\"-TESTING_RANDOM_COMPLIANCE_RATE\",          \"--TESTING_RANDOM_COMPLIANCE_RATE\",          default=1.0, type=float)\n",
    "parser.add_argument(\"-TESTING_TRACED_COMPLIANCE_RATE\",          \"--TESTING_TRACED_COMPLIANCE_RATE\",          default=1.0, type=float)\n",
    "parser.add_argument(\"-TESTING_SELFSEEK_COMPLIANCE_RATE\",        \"--TESTING_SELFSEEK_COMPLIANCE_RATE\",        default=1.0, type=float)\n",
    "parser.add_argument(\"-TESTING_DEGREE_BIAS\",           \"--TESTING_DEGREE_BIAS\",            default=0,            type=float)\n",
    "parser.add_argument(\"-MAX_PCT_TESTS_FOR_TRACING\",     \"--MAX_PCT_TESTS_FOR_TRACING\",      default=1.0,          type=float)\n",
    "parser.add_argument(\"-TRACING_COMPLIANCE_RATE\",       \"--TRACING_COMPLIANCE_RATE\",        default=1.0,          type=float)\n",
    "parser.add_argument(\"-NUM_CONTACTS_TO_TRACE\",         \"--NUM_CONTACTS_TO_TRACE\",          default=None,         type=float)\n",
    "parser.add_argument(\"-FRAC_CONTACTS_TO_TRACE\",        \"--FRAC_CONTACTS_TO_TRACE\",         default=1.0,          type=float)\n",
    "parser.add_argument(\"-TRACING_INTERVAL_LAG\",          \"--TRACING_INTERVAL_LAG\",           default=2,            type=int)\n",
    "parser.add_argument(\"-MAX_PCT_TESTS_FOR_SEEKING\",     \"--MAX_PCT_TESTS_FOR_SEEKING\",      default=1.0,          type=float)\n",
    "parser.add_argument(\"-SYMPTOMATIC_SEEKTEST_COMPLIANCE_RATE\",    \"--SYMPTOMATIC_SEEKTEST_COMPLIANCE_RATE\",     default=1.0, type=float)\n",
    "parser.add_argument(\"-SYMPTOMATIC_SELFISOLATE_COMPLIANCE_RATE\", \"--SYMPTOMATIC_SELFISOLATE_COMPLIANCE_RATE\",  default=1.0, type=float)\n",
    "parser.add_argument(\"-TRACING_SELFISOLATE_COMPLIANCE_RATE\",     \"--TRACING_SELFISOLATE_COMPLIANCE_RATE\",      default=1.0, type=float)\n",
    "parser.add_argument(\"-DO_RANDOM_TESTING\",             \"--DO_RANDOM_TESTING\",              default=True,         type=int)\n",
    "parser.add_argument(\"-DO_TRACING_TESTING\",            \"--DO_TRACING_TESTING\",             default=True,         type=int)\n",
    "parser.add_argument(\"-DO_SEEKING_TESTING\",            \"--DO_SEEKING_TESTING\",             default=True,         type=int)\n",
    "parser.add_argument(\"-DO_SYMPTOM_SELFISO\",            \"--DO_SYMPTOM_SELFISO\",             default=True,         type=int)\n",
    "parser.add_argument(\"-DO_TRACING_SELFISO\",            \"--DO_TRACING_SELFISO\",             default=False,        type=int)\n",
    "parser.add_argument(\"-DO_ISOLATE_POSITIVE_COHORTS\",   \"--DO_ISOLATE_POSITIVE_COHORTS\",    default=False,        type=int)\n",
    "parser.add_argument(\"-DO_ISOLATE_POSITIVE_TEAMS\",     \"--DO_ISOLATE_POSITIVE_TEAMS\",      default=True,        type=int)\n",
    "parser.add_argument(\"-COHORT_ISOLATION_COMPLIANCE_RATE\", \"--COHORT_ISOLATION_COMPLIANCE_RATE\",                default=1.0, type=float)\n",
    "parser.add_argument(\"-TEAM_ISOLATION_COMPLIANCE_RATE\", \"--TEAM_ISOLATION_COMPLIANCE_RATE\",                default=1.0, type=float)\n",
    "parser.add_argument(\"-BETA_PAIRWISE_MODE\",            \"--BETA_PAIRWISE_MODE\",             default='mean',       type=str)\n",
    "parser.add_argument(\"-ALPHA_PAIRWISE_MODE\",           \"--ALPHA_PAIRWISE_MODE\",            default='mean',       type=str)\n",
    "parser.add_argument(\"-TRANSITION_MODE\",               \"--TRANSITION_MODE\",                default='time_in_state',       type=str)\n",
    "\n",
    "args, unknown = parser.parse_known_args()"
   ]
  },
  {
   "cell_type": "code",
   "execution_count": 4,
   "metadata": {},
   "outputs": [],
   "source": [
    "runID           = str(args.runID)\n",
    "\n",
    "outdir          = \"./\" \n",
    "figdir          = \"./\" \n",
    "\n",
    "T = args.T\n",
    "\n",
    "N = int(args.N)\n",
    "\n",
    "INIT_PCT_E   = args.INIT_PCT_E\n",
    "INIT_EXPOSED = max(int(N*INIT_PCT_E), 0)\n",
    "\n",
    "INTERVENTION_START_PCT_INFECTED = args.INTERVENTION_START_PCT_INFECTED\n",
    "\n",
    "R0_mean      = args.R0_mean\n",
    "R0_coeffvar  = args.R0_coeffvar\n",
    "\n",
    "PCT_ASYMPTOMATIC = args.PCT_ASYMPTOMATIC\n",
    "\n",
    "P_GLOBALINTXN = args.P_GLOBALINTXN\n",
    "Q_GLOBALINTXN = args.Q_GLOBALINTXN\n",
    "O_GLOBALINTXN = args.O_GLOBALINTXN\n",
    "\n",
    "PREVALENCE_EXT = args.PREVALENCE_EXT\n",
    "\n",
    "TESTING_INTERVAL          = args.TESTING_INTERVAL\n",
    "FRAC_TO_TEST_PER_INTERVAL = args.FRAC_TO_TEST_PER_INTERVAL\n",
    "TESTS_PER_INTERVAL        = int(N*FRAC_TO_TEST_PER_INTERVAL)\n",
    "TESTING_DEGREE_BIAS       = args.TESTING_DEGREE_BIAS\n",
    "\n",
    "TEST_FALSENEG_RATE        = args.TEST_FALSENEG_RATE if args.TEST_FALSENEG_RATE == \"temporal\" else float(args.TEST_FALSENEG_RATE)\n",
    "\n",
    "TESTING_RANDOM_COMPLIANCE_RATE   = args.TESTING_RANDOM_COMPLIANCE_RATE\n",
    "TESTING_TRACED_COMPLIANCE_RATE   = args.TESTING_TRACED_COMPLIANCE_RATE\n",
    "TESTING_SELFSEEK_COMPLIANCE_RATE = args.TESTING_SELFSEEK_COMPLIANCE_RATE\n",
    "\n",
    "MAX_PCT_TESTS_FOR_TRACING = args.MAX_PCT_TESTS_FOR_TRACING\n",
    "TRACING_COMPLIANCE_RATE   = args.TRACING_COMPLIANCE_RATE\n",
    "NUM_CONTACTS_TO_TRACE     = args.NUM_CONTACTS_TO_TRACE # If None, trace based on fraction of contacts given below\n",
    "FRAC_CONTACTS_TO_TRACE    = args.FRAC_CONTACTS_TO_TRACE\n",
    "TRACING_INTERVAL_LAG      = args.TRACING_INTERVAL_LAG\n",
    "\n",
    "MAX_PCT_TESTS_FOR_SEEKING = args.MAX_PCT_TESTS_FOR_SEEKING\n",
    "\n",
    "SYMPTOMATIC_SEEKTEST_COMPLIANCE_RATE    = args.SYMPTOMATIC_SEEKTEST_COMPLIANCE_RATE\n",
    "SYMPTOMATIC_SELFISOLATE_COMPLIANCE_RATE = args.SYMPTOMATIC_SELFISOLATE_COMPLIANCE_RATE\n",
    "TRACING_SELFISOLATE_COMPLIANCE_RATE     = args.TRACING_SELFISOLATE_COMPLIANCE_RATE\n",
    "\n",
    "DO_RANDOM_TESTING   = args.DO_RANDOM_TESTING\n",
    "DO_TRACING_TESTING  = args.DO_TRACING_TESTING\n",
    "DO_SEEKING_TESTING  = args.DO_SEEKING_TESTING\n",
    "DO_SYMPTOM_SELFISO  = args.DO_SYMPTOM_SELFISO\n",
    "DO_TRACING_SELFISO  = args.DO_TRACING_SELFISO\n",
    "\n",
    "DO_ISOLATE_POSITIVE_COHORTS      = args.DO_ISOLATE_POSITIVE_COHORTS\n",
    "DO_ISOLATE_POSITIVE_TEAMS        = args.DO_ISOLATE_POSITIVE_TEAMS\n",
    "COHORT_ISOLATION_COMPLIANCE_RATE = args.COHORT_ISOLATION_COMPLIANCE_RATE\n",
    "TEAM_ISOLATION_COMPLIANCE_RATE   = args.TEAM_ISOLATION_COMPLIANCE_RATE\n",
    "\n",
    "BETA_PAIRWISE_MODE  = args.BETA_PAIRWISE_MODE\n",
    "ALPHA_PAIRWISE_MODE = args.ALPHA_PAIRWISE_MODE\n",
    "TRANSITION_MODE     = args.TRANSITION_MODE\n",
    "\n",
    "runStr = (\"workplacesim_\"+runID)"
   ]
  },
  {
   "cell_type": "code",
   "execution_count": 5,
   "metadata": {},
   "outputs": [],
   "source": [
    "farz_params={'alpha':    5.0,      # clustering param\n",
    "             'gamma':    5.0,       # assortativity param\n",
    "             'beta':     0.7,       # prob within community edges\n",
    "             'r':        2,         # max num communities node can be part of\n",
    "             'q':        0.3,       # probability of multi-community membership\n",
    "             'phi':      10,         # community size similarity (1 gives power law community sizes)\n",
    "             'b':        0, \n",
    "             'epsilon':  1e-6, \n",
    "             'directed': False, \n",
    "             'weighted': False}\n",
    "\n",
    "G, cohorts, teams = generate_workplace_contact_network(num_cohorts=5, num_nodes_per_cohort=100, num_teams_per_cohort=10,\n",
    "                                       mean_intracohort_degree=6, pct_contacts_intercohort=0.2,\n",
    "                                       farz_params=farz_params)\n",
    "\n",
    "G_Q = networkx.classes.function.create_empty_copy(G)"
   ]
  },
  {
   "cell_type": "code",
   "execution_count": 6,
   "metadata": {},
   "outputs": [
    {
     "name": "stdout",
     "output_type": "stream",
     "text": [
      "baseline graph mean degree       = 11.856\n",
      "baseline graph median degree     = 10.0\n",
      "baseline graph CV^2 degree       = 0.46395181220985593\n",
      "baseline graph assortativity     = 0.1248925688347698\n",
      "baseline graph clustering coeff  = 0.249529681123\n"
     ]
    },
    {
     "data": {
      "image/png": "[encoded data removed]",
      "text/plain": [
       "<matplotlib.figure.Figure at 0x110121350>"
      ]
     },
     "metadata": {},
     "output_type": "display_data"
    }
   ],
   "source": [
    "degree      = [d[1] for d in G.degree()]\n",
    "mean_degree = numpy.mean(degree)\n",
    "median_degree = numpy.median(degree)\n",
    "max_degree  = numpy.max(degree)\n",
    "CV_degree   = numpy.std(degree)/mean_degree\n",
    "print \"baseline graph mean degree       = \" + str(mean_degree)\n",
    "print \"baseline graph median degree     = \" + str(median_degree)\n",
    "print \"baseline graph CV^2 degree       = \" + str(CV_degree**2)\n",
    "\n",
    "r = networkx.degree_assortativity_coefficient(G)\n",
    "print \"baseline graph assortativity     = \" + str(r)\n",
    "\n",
    "c = networkx.average_clustering(G)\n",
    "print \"baseline graph clustering coeff  = \" + str(c)\n",
    "\n",
    "plot_degree_distn(G)"
   ]
  },
  {
   "cell_type": "code",
   "execution_count": 7,
   "metadata": {},
   "outputs": [
    {
     "name": "stdout",
     "output_type": "stream",
     "text": [
      "{'c3': [300, 301, 302, 303, 304, 305, 306, 307, 308, 309, 310, 311, 312, 313, 314, 315, 316, 317, 318, 319, 320, 321, 322, 323, 324, 325, 326, 327, 328, 329, 330, 331, 332, 333, 334, 335, 336, 337, 338, 339, 340, 341, 342, 343, 344, 345, 346, 347, 348, 349, 350, 351, 352, 353, 354, 355, 356, 357, 358, 359, 360, 361, 362, 363, 364, 365, 366, 367, 368, 369, 370, 371, 372, 373, 374, 375, 376, 377, 378, 379, 380, 381, 382, 383, 384, 385, 386, 387, 388, 389, 390, 391, 392, 393, 394, 395, 396, 397, 398], 'c2': [200, 201, 202, 203, 204, 205, 206, 207, 208, 209, 210, 211, 212, 213, 214, 215, 216, 217, 218, 219, 220, 221, 222, 223, 224, 225, 226, 227, 228, 229, 230, 231, 232, 233, 234, 235, 236, 237, 238, 239, 240, 241, 242, 243, 244, 245, 246, 247, 248, 249, 250, 251, 252, 253, 254, 255, 256, 257, 258, 259, 260, 261, 262, 263, 264, 265, 266, 267, 268, 269, 270, 271, 272, 273, 274, 275, 276, 277, 278, 279, 280, 281, 282, 283, 284, 285, 286, 287, 288, 289, 290, 291, 292, 293, 294, 295, 296, 297, 298], 'c1': [100, 101, 102, 103, 104, 105, 106, 107, 108, 109, 110, 111, 112, 113, 114, 115, 116, 117, 118, 119, 120, 121, 122, 123, 124, 125, 126, 127, 128, 129, 130, 131, 132, 133, 134, 135, 136, 137, 138, 139, 140, 141, 142, 143, 144, 145, 146, 147, 148, 149, 150, 151, 152, 153, 154, 155, 156, 157, 158, 159, 160, 161, 162, 163, 164, 165, 166, 167, 168, 169, 170, 171, 172, 173, 174, 175, 176, 177, 178, 179, 180, 181, 182, 183, 184, 185, 186, 187, 188, 189, 190, 191, 192, 193, 194, 195, 196, 197, 198], 'c0': [0, 1, 2, 3, 4, 5, 6, 7, 8, 9, 10, 11, 12, 13, 14, 15, 16, 17, 18, 19, 20, 21, 22, 23, 24, 25, 26, 27, 28, 29, 30, 31, 32, 33, 34, 35, 36, 37, 38, 39, 40, 41, 42, 43, 44, 45, 46, 47, 48, 49, 50, 51, 52, 53, 54, 55, 56, 57, 58, 59, 60, 61, 62, 63, 64, 65, 66, 67, 68, 69, 70, 71, 72, 73, 74, 75, 76, 77, 78, 79, 80, 81, 82, 83, 84, 85, 86, 87, 88, 89, 90, 91, 92, 93, 94, 95, 96, 97, 98], 'c4': [400, 401, 402, 403, 404, 405, 406, 407, 408, 409, 410, 411, 412, 413, 414, 415, 416, 417, 418, 419, 420, 421, 422, 423, 424, 425, 426, 427, 428, 429, 430, 431, 432, 433, 434, 435, 436, 437, 438, 439, 440, 441, 442, 443, 444, 445, 446, 447, 448, 449, 450, 451, 452, 453, 454, 455, 456, 457, 458, 459, 460, 461, 462, 463, 464, 465, 466, 467, 468, 469, 470, 471, 472, 473, 474, 475, 476, 477, 478, 479, 480, 481, 482, 483, 484, 485, 486, 487, 488, 489, 490, 491, 492, 493, 494, 495, 496, 497, 498]}\n"
     ]
    }
   ],
   "source": [
    "print cohorts"
   ]
  },
  {
   "cell_type": "code",
   "execution_count": 8,
   "metadata": {},
   "outputs": [
    {
     "name": "stdout",
     "output_type": "stream",
     "text": [
      "{'c3-t0': [310, 320, 327, 340, 341, 353, 354, 358, 368, 375, 377], 'c3-t7': [307, 311, 314, 317, 323, 334, 335, 342, 379, 380, 382, 395], 'c3-t3': [308, 324, 328, 335, 339, 351, 362, 369, 379, 384, 387], 'c3-t4': [300, 302, 303, 304, 306, 307, 316, 319, 333, 336, 346, 347, 358, 360, 365, 372, 388, 393], 'c1-t2': [101, 107, 111, 113, 119, 128, 140, 143, 145, 159, 172, 175, 178, 182, 183, 186, 193, 194], 'c3-t6': [301, 312, 313, 350, 355, 364, 367, 370, 378, 389, 390, 391], 'c2-t5': [206, 207, 213, 215, 218, 219, 236, 248, 253, 254, 259, 288, 289, 297], 'c2-t4': [206, 282, 295], 'c2-t7': [201, 203, 212, 218, 220, 222, 231, 232, 252, 256, 263, 270, 271, 273, 275, 277, 283, 284, 290, 292, 294, 299], 'c2-t6': [209, 211, 226, 227, 234, 246, 247, 262, 264, 269, 287, 289, 296], 'c2-t1': [221, 228, 229, 233, 237, 241, 243, 245, 255, 268, 269, 272, 274, 281, 284, 285, 290, 291, 292, 296], 'c2-t0': [208, 214, 216, 225, 251, 262, 266, 279, 295], 'c2-t3': [250, 257, 277, 280, 293], 'c2-t2': [205, 211, 223, 226, 238, 239, 241, 258, 265, 282, 286, 298], 'c2-t9': [204, 215, 224, 228, 233, 235, 243, 254, 261, 267], 'c2-t8': [200, 202, 203, 210, 214, 217, 230, 237, 240, 242, 244, 249, 260, 276, 278], 'c3-t9': [321, 325, 330, 336, 348, 349, 359, 362, 366, 368, 374, 385, 386], 'c1-t4': [103, 106, 109, 116, 120, 123, 125, 130, 134, 141, 148, 167, 182], 'c1-t5': [104, 110, 112, 126, 169, 196], 'c1-t6': [100, 104, 108, 122, 146, 151, 153, 155, 161, 162, 165, 176, 183, 194], 'c3-t1': [323, 331, 344, 355, 356, 363, 381, 388, 396], 'c1-t7': [105, 124, 127, 131, 135, 137, 164, 170, 185], 'c1-t0': [136, 138, 142, 157, 168, 177, 185, 190, 199], 'c1-t1': [111, 112, 114, 115, 118, 126, 129, 132, 154, 158, 163, 169, 171, 172, 180, 189], 'c0-t7': [33, 44, 59, 60, 75, 79, 95, 97], 'c0-t6': [10, 28, 29, 42, 47, 54, 61, 63, 64, 65, 74, 82, 87, 98], 'c0-t5': [3, 7, 17, 18, 24, 32, 42, 57, 64, 73, 77, 82, 96], 'c0-t4': [11, 12, 20, 36, 40, 49, 53, 62, 66, 69, 72, 73, 76, 77, 85, 95], 'c0-t3': [5, 14, 22, 38, 62, 79, 80, 81, 93, 99], 'c0-t2': [2, 4, 10, 14, 23, 26, 31, 37, 38, 41, 45, 46, 52, 56, 57, 67, 68, 84, 86, 88], 'c0-t1': [0, 8, 30, 39, 47, 58, 66, 80, 88, 92, 97], 'c0-t0': [5, 6, 21, 33, 48, 55, 56, 70, 71, 83, 89], 'c3-t8': [316, 332, 357, 381], 'c1-t3': [139, 141, 144, 149, 157, 171, 173, 184, 191, 195, 197, 198], 'c1-t8': [102, 117, 121, 123, 133, 160, 163, 174, 178, 179, 181, 188], 'c1-t9': [106, 108, 124, 133, 147, 150, 152, 156, 166, 187, 188, 192], 'c0-t9': [9, 28, 46, 49, 50, 68, 90, 91], 'c0-t8': [1, 3, 12, 13, 15, 16, 19, 23, 25, 27, 30, 34, 35, 43, 50, 51, 74, 78, 92, 94], 'c3-t5': [302, 309, 315, 317, 318, 326, 330, 337, 338, 340, 343, 349, 360, 361, 364, 365, 371, 373, 399], 'c4-t9': [415, 421, 434, 440, 445, 448, 457, 489], 'c4-t8': [420, 423, 439, 459, 460, 471, 478, 481, 488], 'c3-t2': [303, 305, 308, 312, 319, 322, 326, 329, 345, 346, 348, 352, 356, 376, 380, 383, 392, 394, 397, 398], 'c4-t3': [424, 434, 443, 447, 462, 469, 497], 'c4-t2': [407, 409, 412, 413, 428, 451, 463, 468, 473, 475, 483, 484, 495], 'c4-t1': [400, 405, 406, 411, 417, 420, 425, 430, 431, 435, 438, 442, 449, 455, 456, 458, 461, 464, 471, 477, 479, 483, 486, 496], 'c4-t0': [401, 410, 411, 417, 419, 429, 433, 445, 453, 465, 467, 470, 482], 'c4-t7': [400, 403, 405, 424, 436, 441, 446, 454, 460, 472, 476, 489, 490, 494, 499], 'c4-t6': [402, 408, 414, 421, 436, 444, 446, 450, 466, 480, 482, 498], 'c4-t5': [402, 404, 416, 418, 422, 426, 427, 432, 433, 435, 437, 452, 454, 474, 487, 492, 493], 'c4-t4': [442, 472, 485, 486, 491]}\n"
     ]
    }
   ],
   "source": [
    "print teams"
   ]
  },
  {
   "cell_type": "markdown",
   "metadata": {},
   "source": [
    "-------------"
   ]
  },
  {
   "cell_type": "code",
   "execution_count": 9,
   "metadata": {},
   "outputs": [
    {
     "name": "stdout",
     "output_type": "stream",
     "text": [
      "Latent period: mean       = 3.0954492266773665\n",
      "Latent period: median     = 2.872701523291879\n",
      "Latent period: 5  pctile  = 0.8871509234520669\n",
      "Latent period: 25 pctile  = 1.7450343198839255\n",
      "Latent period: 75 pctile  = 4.118735780411352\n",
      "Latent period: 95 pctile  = 6.253388812178117\n",
      "SIGMA mean   = 0.4841253083196018\n",
      "SIGMA median = 0.3481122392270267\n",
      "Prodromal period: mean       = 2.202407528311721\n",
      "Prodromal period: median     = 2.004262273858137\n",
      "Prodromal period: 5  pctile  = 0.6658826002553198\n",
      "Prodromal period: 25 pctile  = 1.4097432981457299\n",
      "Prodromal period: 75 pctile  = 2.769421319174023\n",
      "Prodromal period: 95 pctile  = 4.656635586728024\n",
      "LAMDA mean   = 0.6489147690542161\n",
      "LAMDA median = 0.4989367023999576\n",
      "Incubation period: mean       = 5.297856754989087\n",
      "Incubation period: median     = 4.9729148069744085\n",
      "Incubation period: 5  pctile  = 2.4079574566971367\n",
      "Incubation period: 25 pctile  = 3.7626970100639823\n",
      "Incubation period: 75 pctile  = 6.5332860650744085\n",
      "Incubation period: 95 pctile  = 9.45238067884174\n",
      "Incubation period: 97.5 pctile  = 10.179986250322811\n"
     ]
    },
    {
     "data": {
      "image/png": "[encoded data removed]",
      "text/plain": [
       "<matplotlib.figure.Figure at 0x129a21210>"
      ]
     },
     "metadata": {},
     "output_type": "display_data"
    }
   ],
   "source": [
    "latentPeriods_mean, latentPeriods_coeffvar = 3.0, 0.6\n",
    "latentPeriods_scale     = latentPeriods_mean*latentPeriods_coeffvar**2    \n",
    "latentPeriods_shape     = latentPeriods_mean/latentPeriods_scale          \n",
    "latentPeriods           = numpy.random.gamma(scale=latentPeriods_scale, shape=latentPeriods_shape, size=N)\n",
    "SIGMA  = 1 / latentPeriods\n",
    "print(\"Latent period: mean       = \" + str(numpy.mean(numpy.sort(latentPeriods))) )\n",
    "print(\"Latent period: median     = \"+str(numpy.percentile(numpy.sort(latentPeriods), q=50)) )\n",
    "print(\"Latent period: 5  pctile  = \"+str(numpy.percentile(numpy.sort(latentPeriods), q=5)) )\n",
    "print(\"Latent period: 25 pctile  = \"+str(numpy.percentile(numpy.sort(latentPeriods), q=25)) )\n",
    "print(\"Latent period: 75 pctile  = \"+str(numpy.percentile(numpy.sort(latentPeriods), q=75)) )\n",
    "print(\"Latent period: 95 pctile  = \"+str(numpy.percentile(numpy.sort(latentPeriods), q=95)) )\n",
    "print(\"SIGMA mean   = \" +str(numpy.mean(SIGMA)) )\n",
    "print(\"SIGMA median = \" +str(numpy.median(SIGMA)) )\n",
    "\n",
    "prodromalPeriod_mean, prodromalPeriod_coeffvar = 2.2, 0.5\n",
    "prodromalPeriod_scale   = prodromalPeriod_mean*prodromalPeriod_coeffvar**2    # gamma distn theta\n",
    "prodromalPeriod_shape   = prodromalPeriod_mean/prodromalPeriod_scale          # gamma distn k\n",
    "prodromalPeriods        = numpy.random.gamma(scale=prodromalPeriod_scale, shape=prodromalPeriod_shape, size=N)\n",
    "LAMDA = 1 / prodromalPeriods\n",
    "print(\"Prodromal period: mean       = \"+ str(numpy.mean(numpy.sort(prodromalPeriods))) )\n",
    "print(\"Prodromal period: median     = \"+str(numpy.percentile(numpy.sort(prodromalPeriods), q=50)) )\n",
    "print(\"Prodromal period: 5  pctile  = \"+str(numpy.percentile(numpy.sort(prodromalPeriods), q=5)) )\n",
    "print(\"Prodromal period: 25 pctile  = \"+str(numpy.percentile(numpy.sort(prodromalPeriods), q=25)) )\n",
    "print(\"Prodromal period: 75 pctile  = \"+str(numpy.percentile(numpy.sort(prodromalPeriods), q=75)) )\n",
    "print(\"Prodromal period: 95 pctile  = \"+str(numpy.percentile(numpy.sort(prodromalPeriods), q=95)) )\n",
    "print(\"LAMDA mean   = \" +str(numpy.mean(LAMDA)) )\n",
    "print(\"LAMDA median = \" +str(numpy.median(LAMDA)) )\n",
    "\n",
    "incubationPeriods = latentPeriods + prodromalPeriods\n",
    "print(\"Incubation period: mean       = \" + str(numpy.mean(numpy.sort(incubationPeriods))) )\n",
    "print(\"Incubation period: median     = \"+str(numpy.percentile(numpy.sort(incubationPeriods), q=50)) )\n",
    "print(\"Incubation period: 5  pctile  = \"+str(numpy.percentile(numpy.sort(incubationPeriods), q=5)) )\n",
    "print(\"Incubation period: 25 pctile  = \"+str(numpy.percentile(numpy.sort(incubationPeriods), q=25)) )\n",
    "print(\"Incubation period: 75 pctile  = \"+str(numpy.percentile(numpy.sort(incubationPeriods), q=75)) )\n",
    "print(\"Incubation period: 95 pctile  = \"+str(numpy.percentile(numpy.sort(incubationPeriods), q=95)) )\n",
    "print(\"Incubation period: 97.5 pctile  = \"+str(numpy.percentile(numpy.sort(incubationPeriods), q=97.5)) )\n",
    "\n",
    "pyplot.hist(prodromalPeriods, bins=range(int(max(prodromalPeriods))), alpha=0.75, color='darkorange', label='$I_{pre}$')\n",
    "pyplot.hist(latentPeriods, bins=range(int(max(latentPeriods))), alpha=0.75, color='gold', label='$E$')\n",
    "pyplot.hist(incubationPeriods, bins=range(int(max(incubationPeriods))), alpha=0.5, color='black', label='Pre-symptomatic')\n",
    "pyplot.xlim(0,30)\n",
    "pyplot.xlabel('period (days)')\n",
    "pyplot.ylabel('num nodes')\n",
    "pyplot.legend(loc='upper right')\n",
    "seaborn.despine()\n",
    "pyplot.show()\n",
    "# pyplot.savefig(figdir+\"/incubationPeriods\"+runStr+\".png\")\n",
    "pyplot.close()"
   ]
  },
  {
   "cell_type": "code",
   "execution_count": 10,
   "metadata": {},
   "outputs": [
    {
     "name": "stdout",
     "output_type": "stream",
     "text": [
      "Symptomatic period: mean       = 4.075060645162205\n",
      "Symptomatic period: median     = 3.899151053113359\n",
      "Symptomatic period: 5  pctile  = 1.7317157823621667\n",
      "Symptomatic period: 25 pctile  = 2.9170878964283853\n",
      "Symptomatic period: 75 pctile  = 5.124083926484435\n",
      "Symptomatic period: 95 pctile  = 6.981681750888304\n",
      "Symptomatic period: 99.9pctile = 8.259173143157406\n",
      "Symptomatic period: % in 7-10  = 0.05\n",
      "GAMMA mean   = 0.29624724568690797\n",
      "GAMMA median = 0.256466477297901\n",
      "Infectious period: mean       = 6.277468173473926\n",
      "Infectious period: median     = 6.046747477104708\n",
      "Infectious period: 5  pctile  = 3.427887611237268\n",
      "Infectious period: 25 pctile  = 4.825063331738514\n",
      "Infectious period: 75 pctile  = 7.56443585726287\n",
      "Infectious period: 95 pctile  = 9.521455481782278\n"
     ]
    },
    {
     "data": {
      "image/png": "[encoded data removed]",
      "text/plain": [
       "<matplotlib.figure.Figure at 0x12bdc1e50>"
      ]
     },
     "metadata": {},
     "output_type": "display_data"
    }
   ],
   "source": [
    "symptomaticPeriod_mean, symptomaticPeriod_coeffvar = 4.0, 0.4\n",
    "symptomaticPeriod_scale     = symptomaticPeriod_mean*symptomaticPeriod_coeffvar**2    # gamma distn theta\n",
    "symptomaticPeriod_shape     = symptomaticPeriod_mean/symptomaticPeriod_scale          # gamma distn k\n",
    "symptomaticPeriods          = numpy.random.gamma(scale=symptomaticPeriod_scale, shape=symptomaticPeriod_shape, size=N)\n",
    "GAMMA = 1 / symptomaticPeriods\n",
    "print(\"Symptomatic period: mean       = \" + str(numpy.mean(numpy.sort(symptomaticPeriods))) )\n",
    "print(\"Symptomatic period: median     = \"+str(numpy.percentile(numpy.sort(symptomaticPeriods), q=50)) )\n",
    "print(\"Symptomatic period: 5  pctile  = \"+str(numpy.percentile(numpy.sort(symptomaticPeriods), q=5)) )\n",
    "print(\"Symptomatic period: 25 pctile  = \"+str(numpy.percentile(numpy.sort(symptomaticPeriods), q=25)) )\n",
    "print(\"Symptomatic period: 75 pctile  = \"+str(numpy.percentile(numpy.sort(symptomaticPeriods), q=75)) )\n",
    "print(\"Symptomatic period: 95 pctile  = \"+str(numpy.percentile(numpy.sort(symptomaticPeriods), q=95)) )\n",
    "print(\"Symptomatic period: 99.9pctile = \"+str(numpy.percentile(numpy.sort(symptomaticPeriods), q=99)) )\n",
    "print(\"Symptomatic period: % in 7-10  = \"+str(len(symptomaticPeriods[ numpy.where( (symptomaticPeriods >= 7)&(symptomaticPeriods <= 10) ) ])/len(symptomaticPeriods)) )\n",
    "print(\"GAMMA mean   = \" +str(numpy.mean(GAMMA)) )\n",
    "print(\"GAMMA median = \" +str(numpy.median(GAMMA)) )\n",
    "\n",
    "infectiousPeriods = prodromalPeriods + symptomaticPeriods\n",
    "print(\"Infectious period: mean       = \" + str(numpy.mean(numpy.sort(infectiousPeriods))) )\n",
    "print(\"Infectious period: median     = \"+str(numpy.percentile(numpy.sort(infectiousPeriods), q=50)) )\n",
    "print(\"Infectious period: 5  pctile  = \"+str(numpy.percentile(numpy.sort(infectiousPeriods), q=5)) )\n",
    "print(\"Infectious period: 25 pctile  = \"+str(numpy.percentile(numpy.sort(infectiousPeriods), q=25)) )\n",
    "print(\"Infectious period: 75 pctile  = \"+str(numpy.percentile(numpy.sort(infectiousPeriods), q=75)) )\n",
    "print(\"Infectious period: 95 pctile  = \"+str(numpy.percentile(numpy.sort(infectiousPeriods), q=95)) )\n",
    "\n",
    "pyplot.hist(prodromalPeriods, bins=range(int(max(prodromalPeriods))), alpha=0.75, color='darkorange', label='$I_{pre}$ period')\n",
    "pyplot.hist(symptomaticPeriods, bins=range(int(max(symptomaticPeriods))), alpha=0.75, color='crimson', label='$I_{S/A}$')\n",
    "pyplot.hist(infectiousPeriods, bins=range(int(max(infectiousPeriods))), alpha=0.5, color='black', label='Infectious')\n",
    "pyplot.xlim(0,30)\n",
    "pyplot.xlabel('period')\n",
    "pyplot.ylabel('num nodes')\n",
    "pyplot.legend(loc='upper right')\n",
    "seaborn.despine()\n",
    "pyplot.show()\n",
    "# pyplot.savefig(figdir+\"/infectiousPeriods\"+runStr+\".png\")\n",
    "pyplot.close()"
   ]
  },
  {
   "cell_type": "code",
   "execution_count": 11,
   "metadata": {},
   "outputs": [
    {
     "name": "stdout",
     "output_type": "stream",
     "text": [
      "Onset-to-Hospitalization period: mean       = 11.18039755565545\n",
      "Onset-to-Hospitalization period: median     = 10.536461473168377\n",
      "Onset-to-Hospitalization period: 5  pctile  = 4.482191310425576\n",
      "Onset-to-Hospitalization period: 25 pctile  = 7.759677096295592\n",
      "Onset-to-Hospitalization period: 75 pctile  = 14.024208979515066\n",
      "Onset-to-Hospitalization period: 95 pctile  = 19.78578147553841\n",
      "ETA mean   = 0.11205928926023428\n",
      "ETA median = 0.09490864486395056\n",
      "Hospitalization-to-Discharge period: mean       = 10.946952638501644\n",
      "Hospitalization-to-Discharge period: median     = 10.459917106351167\n",
      "Hospitalization-to-Discharge period: 5  pctile  = 4.13903315556074\n",
      "Hospitalization-to-Discharge period: 25 pctile  = 7.692633071207019\n",
      "Hospitalization-to-Discharge period: 75 pctile  = 13.982833403487144\n",
      "Hospitalization-to-Discharge period: 95 pctile  = 18.778113958120596\n",
      "GAMMA_H mean   = 0.11260890723517224\n",
      "GAMMA_H median = 0.09560306213977063\n",
      "Onset-to-Discharge period: mean       = 22.127350194157096\n",
      "Onset-to-Discharge period: median     = 21.40767455460024\n",
      "Onset-to-Discharge period: 5  pctile  = 12.35555630571819\n",
      "Onset-to-Discharge period: 25 pctile  = 17.86009585978614\n",
      "Onset-to-Discharge period: 75 pctile  = 26.157954087161635\n",
      "Onset-to-Discharge period: 95 pctile  = 33.711922910221126\n"
     ]
    },
    {
     "data": {
      "image/png": "[encoded data removed]",
      "text/plain": [
       "<matplotlib.figure.Figure at 0x12bdc1b10>"
      ]
     },
     "metadata": {},
     "output_type": "display_data"
    }
   ],
   "source": [
    "onsetToHospitalizationPeriod_mean, onsetToHospitalizationPeriod_coeffvar = 11.0, 0.45\n",
    "onsetToHospitalizationPeriod_scale  = onsetToHospitalizationPeriod_mean*onsetToHospitalizationPeriod_coeffvar**2    # gamma distn theta\n",
    "onsetToHospitalizationPeriod_shape  = onsetToHospitalizationPeriod_mean/onsetToHospitalizationPeriod_scale          # gamma distn k\n",
    "onsetToHospitalizationPeriods           = numpy.random.gamma(scale=onsetToHospitalizationPeriod_scale, shape=onsetToHospitalizationPeriod_shape, size=N)\n",
    "ETA = 1 / onsetToHospitalizationPeriods\n",
    "print(\"Onset-to-Hospitalization period: mean       = \" + str(numpy.mean(numpy.sort(onsetToHospitalizationPeriods))) )\n",
    "print(\"Onset-to-Hospitalization period: median     = \"+str(numpy.percentile(numpy.sort(onsetToHospitalizationPeriods), q=50)) )\n",
    "print(\"Onset-to-Hospitalization period: 5  pctile  = \"+str(numpy.percentile(numpy.sort(onsetToHospitalizationPeriods), q=5)) )\n",
    "print(\"Onset-to-Hospitalization period: 25 pctile  = \"+str(numpy.percentile(numpy.sort(onsetToHospitalizationPeriods), q=25)) )\n",
    "print(\"Onset-to-Hospitalization period: 75 pctile  = \"+str(numpy.percentile(numpy.sort(onsetToHospitalizationPeriods), q=75)) )\n",
    "print(\"Onset-to-Hospitalization period: 95 pctile  = \"+str(numpy.percentile(numpy.sort(onsetToHospitalizationPeriods), q=95)) )\n",
    "print(\"ETA mean   = \" +str(numpy.mean(ETA)) )\n",
    "print(\"ETA median = \" +str(numpy.median(ETA)) )\n",
    "\n",
    "hospitalizationToDischargePeriod_mean, hospitalizationToDischargePeriod_coeffvar = 11.0, 0.45\n",
    "hospitalizationToDischargePeriod_scale  = hospitalizationToDischargePeriod_mean*hospitalizationToDischargePeriod_coeffvar**2    # gamma distn theta\n",
    "hospitalizationToDischargePeriod_shape  = hospitalizationToDischargePeriod_mean/hospitalizationToDischargePeriod_scale          # gamma distn k\n",
    "hospitalizationToDischargePeriods       = numpy.random.gamma(scale=hospitalizationToDischargePeriod_scale, shape=hospitalizationToDischargePeriod_shape, size=N)\n",
    "GAMMA_H = 1 / hospitalizationToDischargePeriods\n",
    "print(\"Hospitalization-to-Discharge period: mean       = \" + str(numpy.mean(numpy.sort(hospitalizationToDischargePeriods))) )\n",
    "print(\"Hospitalization-to-Discharge period: median     = \"+str(numpy.percentile(numpy.sort(hospitalizationToDischargePeriods), q=50)) )\n",
    "print(\"Hospitalization-to-Discharge period: 5  pctile  = \"+str(numpy.percentile(numpy.sort(hospitalizationToDischargePeriods), q=5)) )\n",
    "print(\"Hospitalization-to-Discharge period: 25 pctile  = \"+str(numpy.percentile(numpy.sort(hospitalizationToDischargePeriods), q=25)) )\n",
    "print(\"Hospitalization-to-Discharge period: 75 pctile  = \"+str(numpy.percentile(numpy.sort(hospitalizationToDischargePeriods), q=75)) )\n",
    "print(\"Hospitalization-to-Discharge period: 95 pctile  = \"+str(numpy.percentile(numpy.sort(hospitalizationToDischargePeriods), q=95)) )\n",
    "print(\"GAMMA_H mean   = \" +str(numpy.mean(GAMMA_H)) )\n",
    "print(\"GAMMA_H median = \" +str(numpy.median(GAMMA_H)) )\n",
    "\n",
    "onsetToDischargePeriods = onsetToHospitalizationPeriods + hospitalizationToDischargePeriods\n",
    "print(\"Onset-to-Discharge period: mean       = \" + str(numpy.mean(numpy.sort(onsetToDischargePeriods))) )\n",
    "print(\"Onset-to-Discharge period: median     = \"+str(numpy.percentile(numpy.sort(onsetToDischargePeriods), q=50)) )\n",
    "print(\"Onset-to-Discharge period: 5  pctile  = \"+str(numpy.percentile(numpy.sort(onsetToDischargePeriods), q=5)) )\n",
    "print(\"Onset-to-Discharge period: 25 pctile  = \"+str(numpy.percentile(numpy.sort(onsetToDischargePeriods), q=25)) )\n",
    "print(\"Onset-to-Discharge period: 75 pctile  = \"+str(numpy.percentile(numpy.sort(onsetToDischargePeriods), q=75)) )\n",
    "print(\"Onset-to-Discharge period: 95 pctile  = \"+str(numpy.percentile(numpy.sort(onsetToDischargePeriods), q=95)) )\n",
    "\n",
    "pyplot.hist(onsetToHospitalizationPeriods, bins=range(int(max(onsetToHospitalizationPeriods))), alpha=0.5, color='crimson', label='Onset-to-hospitalization ($I_S$)')\n",
    "pyplot.hist(hospitalizationToDischargePeriods, bins=range(int(max(hospitalizationToDischargePeriods))), alpha=0.5, color='violet', label='Hospitalization-to-discharge ($H$)')\n",
    "pyplot.hist(onsetToDischargePeriods, bins=range(int(max(onsetToDischargePeriods))), alpha=0.5, color='black', label='Onset-to-discharge')\n",
    "pyplot.xlim(0,40)\n",
    "pyplot.xlabel('period')\n",
    "pyplot.ylabel('num nodes')\n",
    "pyplot.legend(loc='upper right')\n",
    "seaborn.despine()\n",
    "pyplot.show()\n",
    "# pyplot.savefig(figdir+\"/onsetToDischargePeriods\"+runStr+\".png\")\n",
    "pyplot.close()"
   ]
  },
  {
   "cell_type": "code",
   "execution_count": 12,
   "metadata": {},
   "outputs": [
    {
     "name": "stdout",
     "output_type": "stream",
     "text": [
      "Hospitalization-to-Death period: mean       = 6.898414538485997\n",
      "Hospitalization-to-Death period: median     = 6.372110042604327\n",
      "Hospitalization-to-Death period: 5  pctile  = 2.8227660842156275\n",
      "Hospitalization-to-Death period: 25 pctile  = 4.59695406560587\n",
      "Hospitalization-to-Death period: 75 pctile  = 8.683530078935865\n",
      "Hospitalization-to-Death period: 95 pctile  = 12.48989180728508\n",
      "0.256\n",
      "MU_H mean   = 0.17949438251237843\n",
      "MU_H median = 0.1569338916855923\n",
      "Onset-to-Death period: mean       = 18.078812094141448\n",
      "Onset-to-Death period: median     = 17.430900627543085\n",
      "Onset-to-Death period: 5  pctile  = 10.002683709108044\n",
      "Onset-to-Death period: 25 pctile  = 13.794361061990903\n",
      "Onset-to-Death period: 75 pctile  = 21.51144404411422\n",
      "Onset-to-Death period: 95 pctile  = 28.68126405876774\n"
     ]
    },
    {
     "data": {
      "image/png": "[encoded data removed]",
      "text/plain": [
       "<matplotlib.figure.Figure at 0x12bcf8650>"
      ]
     },
     "metadata": {},
     "output_type": "display_data"
    }
   ],
   "source": [
    "hospitalizationToDeathPeriod_mean, hospitalizationToDeathPeriod_coeffvar = 7.0, 0.45\n",
    "hospitalizationToDeathPeriod_scale  = hospitalizationToDeathPeriod_mean*hospitalizationToDeathPeriod_coeffvar**2    # gamma distn theta\n",
    "hospitalizationToDeathPeriod_shape  = hospitalizationToDeathPeriod_mean/hospitalizationToDeathPeriod_scale          # gamma distn k\n",
    "hospitalizationToDeathPeriods       = numpy.random.gamma(scale=hospitalizationToDeathPeriod_scale, shape=hospitalizationToDeathPeriod_shape, size=N)\n",
    "MU_H = 1 / hospitalizationToDeathPeriods\n",
    "print(\"Hospitalization-to-Death period: mean       = \" + str(numpy.mean(numpy.sort(hospitalizationToDeathPeriods))) )\n",
    "print(\"Hospitalization-to-Death period: median     = \"+str(numpy.percentile(numpy.sort(hospitalizationToDeathPeriods), q=50)) )\n",
    "print(\"Hospitalization-to-Death period: 5  pctile  = \"+str(numpy.percentile(numpy.sort(hospitalizationToDeathPeriods), q=5)) )\n",
    "print(\"Hospitalization-to-Death period: 25 pctile  = \"+str(numpy.percentile(numpy.sort(hospitalizationToDeathPeriods), q=25)) )\n",
    "print(\"Hospitalization-to-Death period: 75 pctile  = \"+str(numpy.percentile(numpy.sort(hospitalizationToDeathPeriods), q=75)) )\n",
    "print(\"Hospitalization-to-Death period: 95 pctile  = \"+str(numpy.percentile(numpy.sort(hospitalizationToDeathPeriods), q=95)) )\n",
    "print(len(hospitalizationToDeathPeriods[ numpy.where( (hospitalizationToDeathPeriods >= 7)&(hospitalizationToDeathPeriods <= 10) ) ])/len(hospitalizationToDeathPeriods) )\n",
    "print(\"MU_H mean   = \" +str(numpy.mean(MU_H)) )\n",
    "print(\"MU_H median = \" +str(numpy.median(MU_H)) )\n",
    "\n",
    "onsetToDeathPeriods = onsetToHospitalizationPeriods + hospitalizationToDeathPeriods\n",
    "print(\"Onset-to-Death period: mean       = \" + str(numpy.mean(numpy.sort(onsetToDeathPeriods))) )\n",
    "print(\"Onset-to-Death period: median     = \"+str(numpy.percentile(numpy.sort(onsetToDeathPeriods), q=50)) )\n",
    "print(\"Onset-to-Death period: 5  pctile  = \"+str(numpy.percentile(numpy.sort(onsetToDeathPeriods), q=5)) )\n",
    "print(\"Onset-to-Death period: 25 pctile  = \"+str(numpy.percentile(numpy.sort(onsetToDeathPeriods), q=25)) )\n",
    "print(\"Onset-to-Death period: 75 pctile  = \"+str(numpy.percentile(numpy.sort(onsetToDeathPeriods), q=75)) )\n",
    "print(\"Onset-to-Death period: 95 pctile  = \"+str(numpy.percentile(numpy.sort(onsetToDeathPeriods), q=95)) )\n",
    "\n",
    "pyplot.hist(onsetToHospitalizationPeriods, bins=range(int(max(onsetToHospitalizationPeriods))), alpha=0.5, color='crimson', label='Onset-to-hospitalization ($I_S$)')\n",
    "pyplot.hist(hospitalizationToDeathPeriods, bins=range(int(max(hospitalizationToDeathPeriods))), alpha=0.5, color='violet', label='Hospitalization-to-death')\n",
    "pyplot.hist(onsetToDeathPeriods, bins=range(int(max(onsetToDeathPeriods))), alpha=0.5, color='black', label='Onset-to-death')\n",
    "pyplot.xlim(0,40)\n",
    "pyplot.xlabel('period')\n",
    "pyplot.ylabel('num nodes')\n",
    "pyplot.legend(loc='upper right')\n",
    "seaborn.despine()\n",
    "pyplot.show()\n",
    "# pyplot.savefig(figdir+\"/onsetToDeathPeriods\"+runStr+\".png\")\n",
    "pyplot.close()"
   ]
  },
  {
   "cell_type": "code",
   "execution_count": 13,
   "metadata": {},
   "outputs": [
    {
     "name": "stdout",
     "output_type": "stream",
     "text": [
      "R0: mean       = 2.0199857353313844\n",
      "R0: median     = 2.0075239474126967\n",
      "R0: 5  pctile  = 1.358033535716347\n",
      "R0: 25 pctile  = 1.732888949974137\n",
      "R0: 50 pctile  = 2.0075239474126967\n",
      "R0: 75 pctile  = 2.271509853067379\n",
      "R0: 95 pctile  = 2.7414004047422527\n",
      "R0: < mean: 48.8%\n",
      "R0: > 1:    99.8%\n",
      "R0: > 2:    51.2%\n",
      "R0: > 3:    1.8%\n",
      "R0: > 4:    0.0%\n",
      "R0: 80 pctile:   2.3557839242558423\n",
      "R0: Top 20 does: 0.26070824801173703\n"
     ]
    },
    {
     "data": {
      "image/png": "[encoded data removed]",
      "text/plain": [
       "<matplotlib.figure.Figure at 0x12c527d50>"
      ]
     },
     "metadata": {},
     "output_type": "display_data"
    }
   ],
   "source": [
    "R0_mean, R0_coeffvar = R0_mean, R0_coeffvar\n",
    "R0_scale      = R0_mean*R0_coeffvar**2    # gamma distn theta\n",
    "R0_shape      = R0_mean/R0_scale          # gamma distn k\n",
    "R0 = numpy.random.gamma(scale=R0_scale, shape=R0_shape, size=N)\n",
    "\n",
    "print(\"R0: mean       = \" + str(numpy.mean(numpy.sort(R0))) )\n",
    "print(\"R0: median     = \" + str(numpy.median(numpy.sort(R0))) )\n",
    "print(\"R0: 5  pctile  = \"+str(numpy.percentile(numpy.sort(R0), q=5)) )\n",
    "print(\"R0: 25 pctile  = \"+str(numpy.percentile(numpy.sort(R0), q=25)) )\n",
    "print(\"R0: 50 pctile  = \"+str(numpy.percentile(numpy.sort(R0), q=50)) )\n",
    "print(\"R0: 75 pctile  = \"+str(numpy.percentile(numpy.sort(R0), q=75)) )\n",
    "print(\"R0: 95 pctile  = \"+str(numpy.percentile(numpy.sort(R0), q=95)) )\n",
    "print \"R0: < mean: \"+str(numpy.count_nonzero(R0[R0 < R0_mean])/N*100)+\"%\"\n",
    "print \"R0: > 1:    \"+str(numpy.count_nonzero(R0[R0 > 1])/N*100)+\"%\"\n",
    "print \"R0: > 2:    \"+str(numpy.count_nonzero(R0[R0 > 2])/N*100)+\"%\"\n",
    "print \"R0: > 3:    \"+str(numpy.count_nonzero(R0[R0 > 3])/N*100)+\"%\"\n",
    "print \"R0: > 4:    \"+str(numpy.count_nonzero(R0[R0 > 4])/N*100)+\"%\"\n",
    "print \"R0: 80 pctile:   \"+str(numpy.percentile(numpy.sort(R0), q=80))\n",
    "print \"R0: Top 20 does: \"+str( numpy.sum(R0[R0 > numpy.percentile(numpy.sort(R0), q=80)])/numpy.sum(R0) )\n",
    "\n",
    "pyplot.hist(R0, bins=numpy.arange(0, int(max(R0+1)), step=0.1), alpha=0.5, color='crimson', label='$R_0$')\n",
    "pyplot.xlim(0,5)\n",
    "pyplot.xlabel('$R_0$')\n",
    "pyplot.ylabel('num nodes')\n",
    "pyplot.legend(loc='upper right')\n",
    "pyplot.show()\n",
    "# pyplot.savefig(figdir+\"/R0distn\"+runStr+\".png\")\n",
    "pyplot.close()"
   ]
  },
  {
   "cell_type": "code",
   "execution_count": 14,
   "metadata": {},
   "outputs": [
    {
     "name": "stdout",
     "output_type": "stream",
     "text": [
      "mean beta = 0.3572829605678843\n",
      "beta: mean       = 0.35728296056788417\n",
      "beta: 5  pctile  = 0.1773849186067201\n",
      "beta: 25 pctile  = 0.25466224102360313\n",
      "beta: 50 pctile  = 0.3257736731142029\n",
      "beta: 75 pctile  = 0.4217468503277598\n",
      "beta: 95 pctile  = 0.6332986138809807\n",
      "mean beta_D = 0.05359244408518263\n",
      "beta_Q: mean       = 0.053592444085182635\n",
      "beta_Q: 5  pctile  = 0.026607737791008012\n",
      "beta_Q: 25 pctile  = 0.038199336153540465\n",
      "beta_Q: 50 pctile  = 0.04886605096713043\n",
      "beta_Q: 75 pctile  = 0.06326202754916398\n",
      "beta_Q: 95 pctile  = 0.0949947920821471\n"
     ]
    }
   ],
   "source": [
    "BETA     = 1/infectiousPeriods * R0\n",
    "print(\"mean beta = \"+str(numpy.mean(BETA)) )\n",
    "print(\"beta: mean       = \" + str(numpy.mean(numpy.sort(BETA))) )\n",
    "print(\"beta: 5  pctile  = \"+str(numpy.percentile(numpy.sort(BETA), q=5)) )\n",
    "print(\"beta: 25 pctile  = \"+str(numpy.percentile(numpy.sort(BETA), q=25)) )\n",
    "print(\"beta: 50 pctile  = \"+str(numpy.percentile(numpy.sort(BETA), q=50)) )\n",
    "print(\"beta: 75 pctile  = \"+str(numpy.percentile(numpy.sort(BETA), q=75)) )\n",
    "print(\"beta: 95 pctile  = \"+str(numpy.percentile(numpy.sort(BETA), q=95)) )\n",
    "\n",
    "BETA_Q = BETA * (0.3/R0_mean) \n",
    "print(\"mean beta_D = \"+str(numpy.mean(BETA_Q)) )\n",
    "print(\"beta_Q: mean       = \" + str(numpy.mean(numpy.sort(BETA_Q))) )\n",
    "print(\"beta_Q: 5  pctile  = \"+str(numpy.percentile(numpy.sort(BETA_Q), q=5)) )\n",
    "print(\"beta_Q: 25 pctile  = \"+str(numpy.percentile(numpy.sort(BETA_Q), q=25)) )\n",
    "print(\"beta_Q: 50 pctile  = \"+str(numpy.percentile(numpy.sort(BETA_Q), q=50)) )\n",
    "print(\"beta_Q: 75 pctile  = \"+str(numpy.percentile(numpy.sort(BETA_Q), q=75)) )\n",
    "print(\"beta_Q: 95 pctile  = \"+str(numpy.percentile(numpy.sort(BETA_Q), q=95)) )"
   ]
  },
  {
   "cell_type": "code",
   "execution_count": 15,
   "metadata": {},
   "outputs": [
    {
     "name": "stdout",
     "output_type": "stream",
     "text": [
      "0.0422\n"
     ]
    }
   ],
   "source": [
    "# Source: Verity et al.\n",
    "ageGroup_pctHospitalized = {'0-9':      0.0000,\n",
    "                            '10-19':    0.0004,\n",
    "                            '20-29':    0.0104,\n",
    "                            '30-39':    0.0343,\n",
    "                            '40-49':    0.0425,\n",
    "                            '50-59':    0.0816,\n",
    "                            '60-69':    0.118,\n",
    "                            '70-79':    0.166,\n",
    "                            '80+':      0.184 }\n",
    "# PCT_HOSPITALIZED = [ageGroup_pctHospitalized[ageGroup] for ageGroup in individual_ageGroups]\n",
    "PCT_HOSPITALIZED = numpy.mean([ageGroup_pctHospitalized[age] for age in ['20-29', '30-39', '40-49', '50-59']])\n",
    "print PCT_HOSPITALIZED"
   ]
  },
  {
   "cell_type": "code",
   "execution_count": 16,
   "metadata": {},
   "outputs": [
    {
     "name": "stdout",
     "output_type": "stream",
     "text": [
      "0.080725\n"
     ]
    }
   ],
   "source": [
    "# Source: Verity et al.\n",
    "ageGroup_hospitalFatalityRate = {'0-9':     0.0000,\n",
    "                                 '10-19':   0.3627,\n",
    "                                 '20-29':   0.0577,\n",
    "                                 '30-39':   0.0426,\n",
    "                                 '40-49':   0.0694,\n",
    "                                 '50-59':   0.1532,\n",
    "                                 '60-69':   0.3381,\n",
    "                                 '70-79':   0.5187,\n",
    "                                 '80+':     0.7283 }\n",
    "# PCT_FATALITY = [ageGroup_hospitalFatalityRate[ageGroup] for ageGroup in individual_ageGroups]\n",
    "PCT_FATALITY = numpy.mean([ageGroup_hospitalFatalityRate[age] for age in ['20-29', '30-39', '40-49', '50-59']])\n",
    "print PCT_FATALITY"
   ]
  },
  {
   "cell_type": "code",
   "execution_count": 17,
   "metadata": {},
   "outputs": [],
   "source": [
    "TESTING_RANDOM_COMPLIANCE   = (numpy.random.rand(N) < TESTING_RANDOM_COMPLIANCE_RATE)\n",
    "TESTING_TRACED_COMPLIANCE   = (numpy.random.rand(N) < TESTING_TRACED_COMPLIANCE_RATE)\n",
    "TESTING_SELFSEEK_COMPLIANCE = (numpy.random.rand(N) < TESTING_SELFSEEK_COMPLIANCE_RATE)\n",
    "\n",
    "#~~~~~~~~~~~~~~~~~~~~~~~~~~~~~~~~~~~~~~~~~~~~~~~~~~\n",
    "\n",
    "TRACING_COMPLIANCE = (numpy.random.rand(N) < TRACING_COMPLIANCE_RATE)\n",
    "\n",
    "#~~~~~~~~~~~~~~~~~~~~~~~~~~~~~~~~~~~~~~~~~~~~~~~~~~\n",
    "\n",
    "SYMPTOMATIC_SEEKTEST_COMPLIANCE = (numpy.random.rand(N) < SYMPTOMATIC_SEEKTEST_COMPLIANCE_RATE)\n",
    "\n",
    "#~~~~~~~~~~~~~~~~~~~~~~~~~~~~~~~~~~~~~~~~~~~~~~~~~~\n",
    "\n",
    "SYMPTOMATIC_SELFISOLATE_COMPLIANCE = (numpy.random.rand(N) < SYMPTOMATIC_SELFISOLATE_COMPLIANCE_RATE)\n",
    "TRACING_SELFISOLATE_COMPLIANCE     = (numpy.random.rand(N) < TRACING_SELFISOLATE_COMPLIANCE_RATE)\n",
    "\n",
    "#~~~~~~~~~~~~~~~~~~~~~~~~~~~~~~~~~~~~~~~~~~~~~~~~~~\n",
    "\n",
    "COHORT_ISOLATION_COMPLIANCE = (numpy.random.rand(N) < COHORT_ISOLATION_COMPLIANCE_RATE)\n",
    "TEAM_ISOLATION_COMPLIANCE   = (numpy.random.rand(N) < TEAM_ISOLATION_COMPLIANCE_RATE)"
   ]
  },
  {
   "cell_type": "markdown",
   "metadata": {},
   "source": [
    "--------"
   ]
  },
  {
   "cell_type": "markdown",
   "metadata": {},
   "source": [
    "# SCENARIO"
   ]
  },
  {
   "cell_type": "code",
   "execution_count": 18,
   "metadata": {},
   "outputs": [
    {
     "name": "stderr",
     "output_type": "stream",
     "text": [
      "extended_models.py:483: RuntimeWarning: divide by zero encountered in log\n",
      "  self.alpha               = numpy.log(self.degree)/numpy.log(numpy.mean(self.degree))     if self.parameters['alpha'] is None   else numpy.array(self.parameters['alpha'])   if isinstance(self.parameters['alpha'], (list, numpy.ndarray))   else numpy.full(fill_value=self.parameters['alpha'], shape=(self.numNodes,1))\n",
      "extended_models.py:484: RuntimeWarning: divide by zero encountered in log\n",
      "  self.alpha_Q             = numpy.log(self.degree_Q)/numpy.log(numpy.mean(self.degree_Q)) if self.parameters['alpha_Q'] is None else numpy.array(self.parameters['alpha_Q']) if isinstance(self.parameters['alpha_Q'], (list, numpy.ndarray)) else numpy.full(fill_value=self.parameters['alpha_Q'], shape=(self.numNodes,1))\n",
      "extended_models.py:484: RuntimeWarning: invalid value encountered in true_divide\n",
      "  self.alpha_Q             = numpy.log(self.degree_Q)/numpy.log(numpy.mean(self.degree_Q)) if self.parameters['alpha_Q'] is None else numpy.array(self.parameters['alpha_Q']) if isinstance(self.parameters['alpha_Q'], (list, numpy.ndarray)) else numpy.full(fill_value=self.parameters['alpha_Q'], shape=(self.numNodes,1))\n"
     ]
    }
   ],
   "source": [
    "model = ExtSEIRSNetworkModel(G=G, p=P_GLOBALINTXN,\n",
    "                                        beta=BETA, sigma=SIGMA, lamda=LAMDA, gamma=GAMMA, \n",
    "                                        gamma_asym=GAMMA, eta=ETA, gamma_H=GAMMA_H, mu_H=MU_H, \n",
    "                                        a=PCT_ASYMPTOMATIC, h=PCT_HOSPITALIZED, f=PCT_FATALITY,              \n",
    "                                        beta_pairwise_mode=BETA_PAIRWISE_MODE, alpha_pairwise_mode=ALPHA_PAIRWISE_MODE,\n",
    "                                        G_Q=G_Q, q=0, beta_Q=BETA_Q, isolation_time=14,\n",
    "                                        o=O_GLOBALINTXN, prevalence_ext=PREVALENCE_EXT,\n",
    "                                        initE=INIT_EXPOSED, transition_mode=TRANSITION_MODE)"
   ]
  },
  {
   "cell_type": "code",
   "execution_count": 19,
   "metadata": {},
   "outputs": [
    {
     "name": "stdout",
     "output_type": "stream",
     "text": [
      "[TESTING @ t = 0.01 (0.20% infected)]\n",
      "\t1 current undetected infections\n",
      "\t0 self-isolated due to symptoms (0 as housemates of symptomatic)\n",
      "\t0 isolated due to positive test (0 as teammates of positive, 0 as cohortmates of positive)\n",
      "\t0\ttested self-seek\t[+ 0 positive (0.00 %) +]\n",
      "\t0\ttested as traces\t[+ 0 positive (0.00 %) +]\n",
      "\t71\ttested randomly\t\t[+ 0 positive (0.00 %) +]\n",
      "\t71\ttested TOTAL\t[+ 0 positive (0.00 %) +]\n",
      "[TESTING @ t = 1.00 (0.20% infected)]\n",
      "\t1 current undetected infections\n",
      "\t0 self-isolated due to symptoms (0 as housemates of symptomatic)\n",
      "\t0 isolated due to positive test (0 as teammates of positive, 0 as cohortmates of positive)\n",
      "\t0\ttested self-seek\t[+ 0 positive (0.00 %) +]\n",
      "\t0\ttested as traces\t[+ 0 positive (0.00 %) +]\n",
      "\t71\ttested randomly\t\t[+ 0 positive (0.00 %) +]\n",
      "\t71\ttested TOTAL\t[+ 0 positive (0.00 %) +]\n"
     ]
    },
    {
     "name": "stderr",
     "output_type": "stream",
     "text": [
      "extended_models.py:708: RuntimeWarning: divide by zero encountered in true_divide\n",
      "  propensities_RtoS        = 1e5 * ((self.X==self.R) & numpy.greater(self.timer_state, 1/self.xi))\n",
      "extended_models.py:710: RuntimeWarning: divide by zero encountered in true_divide\n",
      "  propensities__toS        = 1e5 * ((self.X!=self.F) & numpy.greater(self.timer_state, 1/self.nu))\n"
     ]
    },
    {
     "name": "stdout",
     "output_type": "stream",
     "text": [
      "[TESTING @ t = 9.00 (0.40% infected)]\n",
      "\t2 current undetected infections\n",
      "\t0 self-isolated due to symptoms (0 as housemates of symptomatic)\n",
      "\t0 isolated due to positive test (0 as teammates of positive, 0 as cohortmates of positive)\n",
      "\t0\ttested self-seek\t[+ 0 positive (0.00 %) +]\n",
      "\t0\ttested as traces\t[+ 0 positive (0.00 %) +]\n",
      "\t71\ttested randomly\t\t[+ 0 positive (0.00 %) +]\n",
      "\t71\ttested TOTAL\t[+ 0 positive (0.00 %) +]\n",
      "[TESTING @ t = 11.91 (0.60% infected)]\n",
      "\t3 current undetected infections\n",
      "\t1 self-isolated due to symptoms (0 as housemates of symptomatic)\n",
      "\t1 isolated due to positive test (12 as teammates of positive, 0 as cohortmates of positive)\n",
      "\t1\ttested self-seek\t[+ 1 positive (100.00 %) +]\n",
      "\t0\ttested as traces\t[+ 0 positive (0.00 %) +]\n",
      "\t70\ttested randomly\t\t[+ 0 positive (0.00 %) +]\n",
      "\t71\ttested TOTAL\t[+ 1 positive (1.41 %) +]\n",
      "[TESTING @ t = 12.00 (0.40% infected)]\n",
      "\t2 current undetected infections\n",
      "\t0 self-isolated due to symptoms (0 as housemates of symptomatic)\n",
      "\t0 isolated due to positive test (0 as teammates of positive, 0 as cohortmates of positive)\n",
      "\t0\ttested self-seek\t[+ 0 positive (0.00 %) +]\n",
      "\t0\ttested as traces\t[+ 0 positive (0.00 %) +]\n",
      "\t71\ttested randomly\t\t[+ 0 positive (0.00 %) +]\n",
      "\t71\ttested TOTAL\t[+ 0 positive (0.00 %) +]\n",
      "[TESTING @ t = 13.00 (0.40% infected)]\n",
      "\t2 current undetected infections\n",
      "\t0 self-isolated due to symptoms (0 as housemates of symptomatic)\n",
      "\t1 isolated due to positive test (12 as teammates of positive, 0 as cohortmates of positive)\n",
      "\t0\ttested self-seek\t[+ 0 positive (0.00 %) +]\n",
      "\t12\ttested as traces\t[+ 1 positive (8.33 %) +]\n",
      "\t59\ttested randomly\t\t[+ 0 positive (0.00 %) +]\n",
      "\t71\ttested TOTAL\t[+ 1 positive (1.41 %) +]\n",
      "[TESTING @ t = 14.00 (0.40% infected)]\n",
      "\t1 current undetected infections\n",
      "\t0 self-isolated due to symptoms (0 as housemates of symptomatic)\n",
      "\t0 isolated due to positive test (0 as teammates of positive, 0 as cohortmates of positive)\n",
      "\t0\ttested self-seek\t[+ 0 positive (0.00 %) +]\n",
      "\t0\ttested as traces\t[+ 0 positive (0.00 %) +]\n",
      "\t71\ttested randomly\t\t[+ 0 positive (0.00 %) +]\n",
      "\t71\ttested TOTAL\t[+ 0 positive (0.00 %) +]\n",
      "[TESTING @ t = 15.00 (0.40% infected)]\n",
      "\t1 current undetected infections\n",
      "\t0 self-isolated due to symptoms (0 as housemates of symptomatic)\n",
      "\t0 isolated due to positive test (0 as teammates of positive, 0 as cohortmates of positive)\n",
      "\t0\ttested self-seek\t[+ 0 positive (0.00 %) +]\n",
      "\t17\ttested as traces\t[+ 0 positive (0.00 %) +]\n",
      "\t54\ttested randomly\t\t[+ 0 positive (0.00 %) +]\n",
      "\t71\ttested TOTAL\t[+ 0 positive (0.00 %) +]\n",
      "[TESTING @ t = 16.00 (0.40% infected)]\n",
      "\t1 current undetected infections\n",
      "\t0 self-isolated due to symptoms (0 as housemates of symptomatic)\n",
      "\t1 isolated due to positive test (12 as teammates of positive, 0 as cohortmates of positive)\n",
      "\t1\ttested self-seek\t[+ 1 positive (100.00 %) +]\n",
      "\t0\ttested as traces\t[+ 0 positive (0.00 %) +]\n",
      "\t70\ttested randomly\t\t[+ 0 positive (0.00 %) +]\n",
      "\t71\ttested TOTAL\t[+ 1 positive (1.41 %) +]\n",
      "[TESTING @ t = 17.00 (0.40% infected)]\n",
      "\t0 current undetected infections\n",
      "\t0 self-isolated due to symptoms (0 as housemates of symptomatic)\n",
      "\t0 isolated due to positive test (0 as teammates of positive, 0 as cohortmates of positive)\n",
      "\t0\ttested self-seek\t[+ 0 positive (0.00 %) +]\n",
      "\t0\ttested as traces\t[+ 0 positive (0.00 %) +]\n",
      "\t71\ttested randomly\t\t[+ 0 positive (0.00 %) +]\n",
      "\t71\ttested TOTAL\t[+ 0 positive (0.00 %) +]\n",
      "[TESTING @ t = 18.00 (0.40% infected)]\n",
      "\t0 current undetected infections\n",
      "\t0 self-isolated due to symptoms (0 as housemates of symptomatic)\n",
      "\t0 isolated due to positive test (0 as teammates of positive, 0 as cohortmates of positive)\n",
      "\t0\ttested self-seek\t[+ 0 positive (0.00 %) +]\n",
      "\t13\ttested as traces\t[+ 0 positive (0.00 %) +]\n",
      "\t58\ttested randomly\t\t[+ 0 positive (0.00 %) +]\n",
      "\t71\ttested TOTAL\t[+ 0 positive (0.00 %) +]\n",
      "[TESTING @ t = 19.00 (0.40% infected)]\n",
      "\t0 current undetected infections\n",
      "\t0 self-isolated due to symptoms (0 as housemates of symptomatic)\n",
      "\t0 isolated due to positive test (0 as teammates of positive, 0 as cohortmates of positive)\n",
      "\t0\ttested self-seek\t[+ 0 positive (0.00 %) +]\n",
      "\t0\ttested as traces\t[+ 0 positive (0.00 %) +]\n",
      "\t71\ttested randomly\t\t[+ 0 positive (0.00 %) +]\n",
      "\t71\ttested TOTAL\t[+ 0 positive (0.00 %) +]\n",
      "[TESTING @ t = 20.00 (0.20% infected)]\n",
      "\t0 current undetected infections\n",
      "\t0 self-isolated due to symptoms (0 as housemates of symptomatic)\n",
      "\t0 isolated due to positive test (0 as teammates of positive, 0 as cohortmates of positive)\n",
      "\t0\ttested self-seek\t[+ 0 positive (0.00 %) +]\n",
      "\t0\ttested as traces\t[+ 0 positive (0.00 %) +]\n",
      "\t71\ttested randomly\t\t[+ 0 positive (0.00 %) +]\n",
      "\t71\ttested TOTAL\t[+ 0 positive (0.00 %) +]\n"
     ]
    }
   ],
   "source": [
    "interventionInterval = run_workplace_testing_sim(\n",
    "                              model=model, T=T, intervention_start_pct_infected=INTERVENTION_START_PCT_INFECTED,\n",
    "                              testing_interval=TESTING_INTERVAL, tests_per_interval=TESTS_PER_INTERVAL, test_falseneg_rate=TEST_FALSENEG_RATE,\n",
    "                              do_random_testing=DO_RANDOM_TESTING, testing_random_compliance=TESTING_RANDOM_COMPLIANCE, testing_degree_bias=TESTING_DEGREE_BIAS,\n",
    "                              do_tracing_testing=DO_TRACING_TESTING, tracing_compliance=TRACING_COMPLIANCE, testing_traced_compliance=TESTING_TRACED_COMPLIANCE, max_pct_tests_for_tracing=MAX_PCT_TESTS_FOR_TRACING, num_contacts_to_trace=NUM_CONTACTS_TO_TRACE, frac_contacts_to_trace=FRAC_CONTACTS_TO_TRACE, tracing_interval_lag=TRACING_INTERVAL_LAG,\n",
    "                              do_seeking_testing=DO_SEEKING_TESTING, symptomatic_seektest_compliance=SYMPTOMATIC_SEEKTEST_COMPLIANCE, testing_selfseek_compliance=TESTING_SELFSEEK_COMPLIANCE, max_pct_tests_for_seeking=MAX_PCT_TESTS_FOR_SEEKING,\n",
    "                              do_symptom_selfiso=DO_SYMPTOM_SELFISO, symptomatic_selfiso_compliance=SYMPTOMATIC_SELFISOLATE_COMPLIANCE, \n",
    "                              do_tracing_selfiso=DO_TRACING_SELFISO, tracing_selfiso_compliance=TRACING_SELFISOLATE_COMPLIANCE,\n",
    "                              isolate_positive_cohorts=DO_ISOLATE_POSITIVE_COHORTS, cohort_isolation_compliance=COHORT_ISOLATION_COMPLIANCE, cohorts=cohorts,\n",
    "                              isolate_positive_teams=DO_ISOLATE_POSITIVE_TEAMS, team_isolation_compliance=TEAM_ISOLATION_COMPLIANCE, teams=teams,\n",
    "                              introduction_interval=1, average_introductions_per_interval=0/30\n",
    "                            )"
   ]
  },
  {
   "cell_type": "code",
   "execution_count": 20,
   "metadata": {},
   "outputs": [
    {
     "name": "stdout",
     "output_type": "stream",
     "text": [
      "total percent infected: 0.60%\n",
      "total percent fatality: 0.00%\n",
      "peak  pct hospitalized: 0.00%\n"
     ]
    }
   ],
   "source": [
    "print(\"total percent infected: %0.2f%%\" % ((model.total_num_infected()[-1]+model.total_num_recovered()[-1])/N * 100) )\n",
    "print(\"total percent fatality: %0.2f%%\" % (model.numF[-1]/N * 100) )\n",
    "print(\"peak  pct hospitalized: %0.2f%%\" % (numpy.max(model.numH)/N * 100) )"
   ]
  },
  {
   "cell_type": "markdown",
   "metadata": {},
   "source": [
    "--------"
   ]
  },
  {
   "cell_type": "code",
   "execution_count": 21,
   "metadata": {},
   "outputs": [
    {
     "data": {
      "image/png": "[encoded data removed]",
      "text/plain": [
       "<matplotlib.figure.Figure at 0x12c7d1a50>"
      ]
     },
     "metadata": {},
     "output_type": "display_data"
    }
   ],
   "source": [
    "fig, ax = model.figure_infections(combine_Q_infected=False, show=False, use_seaborn=False,\n",
    "                                    plot_Q_R='stacked', #plot_R='stacked', \n",
    "                                    plot_Q_S='stacked', #plot_S='stacked', \n",
    "                                    vlines=[interventionInterval[0]],\n",
    "                                    ylim=1, xlim=300\n",
    "                                 )"
   ]
  },
  {
   "cell_type": "code",
   "execution_count": 22,
   "metadata": {},
   "outputs": [
    {
     "data": {
      "text/plain": [
       "[<matplotlib.lines.Line2D at 0x12c7f8d50>]"
      ]
     },
     "execution_count": 22,
     "metadata": {},
     "output_type": "execute_result"
    },
    {
     "data": {
      "image/png": "[encoded data removed]",
      "text/plain": [
       "<matplotlib.figure.Figure at 0x129a0e4d0>"
      ]
     },
     "metadata": {},
     "output_type": "display_data"
    }
   ],
   "source": [
    "fig, ax = pyplot.subplots(figsize=(16,9))\n",
    "ax.plot(model.tseries, model.total_num_infected()/N, color='tab:red')\n",
    "ax.plot(model.tseries, model.total_num_recovered()/N, color='tab:blue')\n",
    "ax.plot(model.tseries, model.total_num_isolated()/N, color='tab:orange')\n",
    "ax.plot(model.tseries, model.total_num_positive()/N, color='tab:green')"
   ]
  },
  {
   "cell_type": "code",
   "execution_count": null,
   "metadata": {},
   "outputs": [],
   "source": []
  },
  {
   "cell_type": "code",
   "execution_count": null,
   "metadata": {},
   "outputs": [],
   "source": []
  }
 ],
 "metadata": {
  "kernelspec": {
   "display_name": "Python 2",
   "language": "python",
   "name": "python2"
  },
  "language_info": {
   "codemirror_mode": {
    "name": "ipython",
    "version": 2
   },
   "file_extension": ".py",
   "mimetype": "text/x-python",
   "name": "python",
   "nbconvert_exporter": "python",
   "pygments_lexer": "ipython2",
   "version": "2.7.13"
  }
 },
 "nbformat": 4,
 "nbformat_minor": 2
}

{
 "cells": [
  {
   "cell_type": "code",
   "execution_count": 1,
   "metadata": {},
   "outputs": [],
   "source": [
    "from models import SEIRSGraphModel # Import the SEIRS graph model.\n",
    "from models import custom_exponential_graph\n",
    "import matplotlib.pyplot as pyplot"
   ]
  },
  {
   "cell_type": "code",
   "execution_count": 2,
   "metadata": {},
   "outputs": [],
   "source": [
    "numNodes = 1e3\n",
    "G_normal = custom_exponential_graph(n=1e3, m=9, scale=100)"
   ]
  },
  {
   "cell_type": "code",
   "execution_count": 3,
   "metadata": {},
   "outputs": [],
   "source": [
    "G_quarantine = custom_exponential_graph(base_graph=G_normal, scale=5)"
   ]
  },
  {
   "cell_type": "code",
   "execution_count": 4,
   "metadata": {},
   "outputs": [],
   "source": [
    "model = SEIRSGraphModel(G       =G_normal, \n",
    "                        Q       =G_quarantine, \n",
    "                        beta    =0.155, \n",
    "                        sigma   =1/5.2, \n",
    "                        gamma   =1/12.39, \n",
    "                        mu_I    =0.0004,\n",
    "                        mu_0    =0, \n",
    "                        nu      =0, \n",
    "                        xi      =0,\n",
    "                        p       =0.5,\n",
    "                        beta_D  =0.155, \n",
    "                        sigma_D =1/5.2, \n",
    "                        gamma_D =1/12.39, \n",
    "                        mu_D    =0.0004,\n",
    "                        theta_E =0, \n",
    "                        theta_I =0, \n",
    "                        phi_E   =0, \n",
    "                        phi_I   =0, \n",
    "                        psi_E   =1.0, \n",
    "                        psi_I   =1.0,\n",
    "                        q       =0.5,\n",
    "                        initI   =numNodes/100, \n",
    "                        initE   =0, \n",
    "                        initD_E =0, \n",
    "                        initD_I =0, \n",
    "                        initR   =0, \n",
    "                        initF   =0)"
   ]
  },
  {
   "cell_type": "code",
   "execution_count": 5,
   "metadata": {},
   "outputs": [
    {
     "name": "stdout",
     "output_type": "stream",
     "text": [
      "StoE t = 0.2384644420959156\n",
      "\t S   = 989.0\n",
      "\t E   = 1.0\n",
      "\t I   = 10.0\n",
      "\t D_E = 0.0\n",
      "\t D_I = 0.0\n",
      "\t R   = 0.0\n",
      "\t F   = 0.0\n",
      "EtoI t = 10.133282521487363\n",
      "\t S   = 973.0\n",
      "\t E   = 7.0\n",
      "\t I   = 10.0\n",
      "\t D_E = 0.0\n",
      "\t D_I = 0.0\n",
      "\t R   = 10.0\n",
      "\t F   = 0.0\n",
      "EtoI t = 20.162277390068326\n",
      "\t S   = 960.0\n",
      "\t E   = 6.0\n",
      "\t I   = 13.0\n",
      "\t D_E = 0.0\n",
      "\t D_I = 0.0\n",
      "\t R   = 21.0\n",
      "\t F   = 0.0\n",
      "ItoR t = 30.247064577614587\n",
      "\t S   = 936.0\n",
      "\t E   = 8.0\n",
      "\t I   = 23.0\n",
      "\t D_E = 0.0\n",
      "\t D_I = 0.0\n",
      "\t R   = 33.0\n",
      "\t F   = 0.0\n"
     ]
    },
    {
     "data": {
      "text/plain": [
       "True"
      ]
     },
     "execution_count": 5,
     "metadata": {},
     "output_type": "execute_result"
    }
   ],
   "source": [
    "model.run(30)"
   ]
  },
  {
   "cell_type": "code",
   "execution_count": 7,
   "metadata": {},
   "outputs": [
    {
     "ename": "NameError",
     "evalue": "name 'pyplot' is not defined",
     "output_type": "error",
     "traceback": [
      "\u001b[0;31m---------------------------------------------------------------------------\u001b[0m",
      "\u001b[0;31mNameError\u001b[0m                                 Traceback (most recent call last)",
      "\u001b[0;32m<ipython-input-7-4b9d75f583a4>\u001b[0m in \u001b[0;36m<module>\u001b[0;34m()\u001b[0m\n\u001b[1;32m      1\u001b[0m \u001b[0mmodel\u001b[0m\u001b[0;34m.\u001b[0m\u001b[0mplot\u001b[0m\u001b[0;34m(\u001b[0m\u001b[0;34m)\u001b[0m\u001b[0;34m\u001b[0m\u001b[0m\n\u001b[0;32m----> 2\u001b[0;31m \u001b[0mpyplot\u001b[0m\u001b[0;34m.\u001b[0m\u001b[0mshow\u001b[0m\u001b[0;34m(\u001b[0m\u001b[0;34m)\u001b[0m\u001b[0;34m\u001b[0m\u001b[0m\n\u001b[0m",
      "\u001b[0;31mNameError\u001b[0m: name 'pyplot' is not defined"
     ]
    }
   ],
   "source": [
    "model.plot()\n",
    "pyplot.show()"
   ]
  },
  {
   "cell_type": "code",
   "execution_count": null,
   "metadata": {},
   "outputs": [],
   "source": []
  }
 ],
 "metadata": {
  "kernelspec": {
   "display_name": "Python 2",
   "language": "python",
   "name": "python2"
  },
  "language_info": {
   "codemirror_mode": {
    "name": "ipython",
    "version": 2
   },
   "file_extension": ".py",
   "mimetype": "text/x-python",
   "name": "python",
   "nbconvert_exporter": "python",
   "pygments_lexer": "ipython2",
   "version": "2.7.13"
  }
 },
 "nbformat": 4,
 "nbformat_minor": 2
}
